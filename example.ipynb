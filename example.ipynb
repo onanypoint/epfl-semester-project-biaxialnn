{
 "cells": [
  {
   "cell_type": "code",
   "execution_count": null,
   "metadata": {
    "collapsed": false
   },
   "outputs": [],
   "source": [
    "%load_ext autoreload\n",
    "%autoreload 2"
   ]
  },
  {
   "cell_type": "code",
   "execution_count": null,
   "metadata": {
    "collapsed": false,
    "scrolled": false
   },
   "outputs": [],
   "source": [
    "from pathlib import Path\n",
    "\n",
    "from utils.dataprep.metadata import *"
   ]
  },
  {
   "cell_type": "code",
   "execution_count": null,
   "metadata": {
    "collapsed": false
   },
   "outputs": [],
   "source": [
    "DIR = Path('')\n",
    "DATA_DIR = DIR/'data/'"
   ]
  },
  {
   "cell_type": "markdown",
   "metadata": {},
   "source": [
    "# Musescore Metadata/Score Retrieval\n",
    "\n",
    "The first part of any pipeline is to retrieve a dataset. For this we will use the [musescore api](http://developers.musescore.com/) for both the metadata retrieval and the score download."
   ]
  },
  {
   "cell_type": "markdown",
   "metadata": {},
   "source": [
    "### 1 Part\n",
    "We start by retrieving score metadata for score with only one part. When it's done, we start downloading the scores."
   ]
  },
  {
   "cell_type": "code",
   "execution_count": null,
   "metadata": {
    "collapsed": false
   },
   "outputs": [],
   "source": [
    "prefix = 'ms_parts_1' \n",
    "meta_file = get_metadata(DATA_DIR, prefix, parts=1, retrieve_max=100) "
   ]
  },
  {
   "cell_type": "markdown",
   "metadata": {
    "collapsed": true
   },
   "source": [
    "### Part 2"
   ]
  },
  {
   "cell_type": "code",
   "execution_count": null,
   "metadata": {
    "collapsed": true
   },
   "outputs": [],
   "source": [
    "prefix = 'ms_parts_2' \n",
    "meta_file = get_metadata(DATA_RAW, prefix, parts=2, retrieve_max=100) "
   ]
  }
 ],
 "metadata": {
  "anaconda-cloud": {},
  "kernelspec": {
   "display_name": "Python [conda env:biaxial]",
   "language": "python",
   "name": "conda-env-biaxial-py"
  },
  "language_info": {
   "codemirror_mode": {
    "name": "ipython",
    "version": 3
   },
   "file_extension": ".py",
   "mimetype": "text/x-python",
   "name": "python",
   "nbconvert_exporter": "python",
   "pygments_lexer": "ipython3",
   "version": "3.5.2"
  }
 },
 "nbformat": 4,
 "nbformat_minor": 1
}
