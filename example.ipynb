{
 "cells": [
  {
   "cell_type": "code",
   "execution_count": null,
   "metadata": {
    "collapsed": false
   },
   "outputs": [],
   "source": [
    "%load_ext autoreload\n",
    "%autoreload 2"
   ]
  },
  {
   "cell_type": "code",
   "execution_count": null,
   "metadata": {
    "collapsed": false,
    "scrolled": false
   },
   "outputs": [],
   "source": [
    "from pathlib import Path\n",
    "import pandas as pd\n",
    "\n",
    "from utils.dataprep.metadata import *\n",
    "from utils.dataprep.scores import *\n",
    "from utils.data import DataManager\n",
    "from utils.features import *\n",
    "from utils.statematrix import *\n",
    "from utils.model import *\n",
    "from utils.training import *"
   ]
  },
  {
   "cell_type": "code",
   "execution_count": null,
   "metadata": {
    "collapsed": false
   },
   "outputs": [],
   "source": [
    "DIR = Path('')\n",
    "DATA_DIR = DIR/'data/'"
   ]
  },
  {
   "cell_type": "markdown",
   "metadata": {},
   "source": [
    "# Musescore Metadata/Score Retrieval\n",
    "\n",
    "The first part of any pipeline is to retrieve a dataset. For this we will use the [musescore api](http://developers.musescore.com/) for both the metadata retrieval and the score download."
   ]
  },
  {
   "cell_type": "code",
   "execution_count": null,
   "metadata": {
    "collapsed": true
   },
   "outputs": [],
   "source": [
    "# Cleaing of the dataset before retrieval\n",
    "def metadata_sanetization(df, min_measures=10, max_measures=100):\n",
    "    df = df[pd.to_numeric(df.id, errors='coerce').notnull()]\n",
    "    df['metadata_measures'] = pd.to_numeric(df['metadata_measures'], errors='coerce')\n",
    "    df = df[(df.metadata_measures >= min_measures) & (df.metadata_measures <= max_measures)]\n",
    "    return df"
   ]
  },
  {
   "cell_type": "markdown",
   "metadata": {},
   "source": [
    "### 1 Part\n",
    "We start by retrieving score metadata for score with only one part. When it's done, we start downloading the scores."
   ]
  },
  {
   "cell_type": "code",
   "execution_count": null,
   "metadata": {
    "collapsed": false
   },
   "outputs": [],
   "source": [
    "prefix = 'ms_parts_1' \n",
    "meta_file = get_metadata(DATA_DIR, prefix, parts=1, retrieve_max=100)\n",
    "df = metadata_sanetization(pd.read_csv(meta_file))  \n",
    "df_paths = get_scores(df, DATA_DIR, prefix)"
   ]
  },
  {
   "cell_type": "markdown",
   "metadata": {
    "collapsed": true
   },
   "source": [
    "### Part 2"
   ]
  },
  {
   "cell_type": "code",
   "execution_count": null,
   "metadata": {
    "collapsed": false,
    "scrolled": true
   },
   "outputs": [],
   "source": [
    "prefix = 'ms_parts_2' \n",
    "meta_file = get_metadata(DATA_DIR, prefix, parts=2, retrieve_max=100) \n",
    "df = metadata_sanetization(pd.read_csv(meta_file))  \n",
    "df_paths = get_scores(df, DATA_DIR, prefix)"
   ]
  },
  {
   "cell_type": "markdown",
   "metadata": {},
   "source": [
    "# Dataset selection"
   ]
  },
  {
   "cell_type": "code",
   "execution_count": null,
   "metadata": {
    "collapsed": false
   },
   "outputs": [],
   "source": [
    "datamanager = DataManager(FeatureBuilderSimple(), StateMatrixBuilderSimple())"
   ]
  },
  {
   "cell_type": "code",
   "execution_count": null,
   "metadata": {
    "collapsed": true
   },
   "outputs": [],
   "source": [
    "def listdir_fullpath(d):\n",
    "    return [os.path.join(d, f) for f in os.listdir(d)]"
   ]
  },
  {
   "cell_type": "code",
   "execution_count": null,
   "metadata": {
    "collapsed": true
   },
   "outputs": [],
   "source": [
    "directory = 'data/piano-midi'\n",
    "score_paths = listdir_fullpath(directory)"
   ]
  },
  {
   "cell_type": "code",
   "execution_count": null,
   "metadata": {
    "collapsed": true
   },
   "outputs": [],
   "source": [
    "pieces = datamanager.pieces_to_statematrix(score_paths)\n",
    "pickle.dump(pieces, open('data/music_statematrix.pkl', 'wb'))"
   ]
  },
  {
   "cell_type": "markdown",
   "metadata": {},
   "source": [
    "# Training"
   ]
  },
  {
   "cell_type": "markdown",
   "metadata": {},
   "source": [
    "We will first create a \"data manager\", this object will be used as a wrapper around the two builder needed by the model. The feature builder is in charge of going from input space to feature space. The statematrix builder is in charge of going from the \"score\" space (the raw data in xml/kern/etc.) to input space and vice versa."
   ]
  },
  {
   "cell_type": "code",
   "execution_count": null,
   "metadata": {
    "collapsed": false,
    "scrolled": false
   },
   "outputs": [],
   "source": [
    "model = Model(datamanager, [300,300],[100,50], dropout=0.5)\n",
    "model.setup()"
   ]
  },
  {
   "cell_type": "markdown",
   "metadata": {},
   "source": [
    "If you have already trained weights run the following cell."
   ]
  },
  {
   "cell_type": "code",
   "execution_count": null,
   "metadata": {
    "collapsed": false,
    "scrolled": false
   },
   "outputs": [],
   "source": [
    "# Use this if loading GPU params to CPU model.\n",
    "# import thenao\n",
    "# thenao.config.experimental.unpickle_gpu_on_cpu = True\n",
    "\n",
    "config = pickle.load(open(\"output/weights/params_final.p\", \"rb\" ))\n",
    "model.learned_config = config"
   ]
  },
  {
   "cell_type": "code",
   "execution_count": null,
   "metadata": {
    "collapsed": false
   },
   "outputs": [],
   "source": [
    "# Load the pieces in statematrix format\n",
    "pieces = pickle.load(open(\"data/music_statematrix.pkl\", \"rb\" ))"
   ]
  },
  {
   "cell_type": "markdown",
   "metadata": {},
   "source": [
    "The training is quiet slow. It takes ~10 secondes on a GTX 650 per iteration."
   ]
  },
  {
   "cell_type": "code",
   "execution_count": null,
   "metadata": {
    "collapsed": false
   },
   "outputs": [],
   "source": [
    "print(\"Training\")\n",
    "train_piece(model, pieces, 2000, 'output/')\n",
    "\n",
    "print(\"Dumping\")\n",
    "pickle.dump(model.learned_config, open( \"output/weights/final_learned_config.p\", \"wb\" ) )"
   ]
  },
  {
   "cell_type": "markdown",
   "metadata": {},
   "source": [
    "# Generating"
   ]
  },
  {
   "cell_type": "code",
   "execution_count": null,
   "metadata": {
    "collapsed": false
   },
   "outputs": [],
   "source": [
    "seed_file = 'data/ms_parts_1/ms_score_3047311.mxl'\n",
    "seed_stream = m21.converter.parse(seed_file)\n",
    "seed_state = model.data_manager.s.stream_to_statematrix(seed_stream)\n",
    "seed_input = model.data_manager.f.note_state_matrix_to_input_form(seed_state)\n",
    "\n",
    "length = 64 if len(seed_input) > 64 else len(seed_input)\n",
    "\n",
    "generated_state = np.concatenate((seed_state[:length], model.generate_fun(128, 1, seed_input[:length])), axis=0)\n",
    "generated_steam = model.data_manager.s.statematrix_to_stream(generated_state)\n",
    "generated_steam.show()"
   ]
  },
  {
   "cell_type": "code",
   "execution_count": null,
   "metadata": {
    "collapsed": true
   },
   "outputs": [],
   "source": []
  }
 ],
 "metadata": {
  "anaconda-cloud": {},
  "kernelspec": {
   "display_name": "Python 3",
   "language": "python",
   "name": "python3"
  },
  "language_info": {
   "codemirror_mode": {
    "name": "ipython",
    "version": 3
   },
   "file_extension": ".py",
   "mimetype": "text/x-python",
   "name": "python",
   "nbconvert_exporter": "python",
   "pygments_lexer": "ipython3",
   "version": "3.5.2"
  }
 },
 "nbformat": 4,
 "nbformat_minor": 1
}
